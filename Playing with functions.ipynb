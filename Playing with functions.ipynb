{
 "cells": [
  {
   "cell_type": "markdown",
   "metadata": {},
   "source": [
    "1\n",
    "\n",
    "1 point\n",
    "\n",
    "Write a function that takes the circumference of a circle as a parameter and returns the area of that circle.\n",
    "\n",
    "Note: Assume the value of pi is 3.1416"
   ]
  },
  {
   "cell_type": "code",
   "execution_count": 32,
   "metadata": {},
   "outputs": [
    {
     "ename": "TypeError",
     "evalue": "circle() missing 1 required positional argument: 'circumference'",
     "output_type": "error",
     "traceback": [
      "\u001b[1;31m---------------------------------------------------------------------------\u001b[0m",
      "\u001b[1;31mTypeError\u001b[0m                                 Traceback (most recent call last)",
      "\u001b[1;32m<ipython-input-32-46b7c2501578>\u001b[0m in \u001b[0;36m<module>\u001b[1;34m\u001b[0m\n\u001b[0;32m      5\u001b[0m     \u001b[1;32mreturn\u001b[0m \u001b[0marea\u001b[0m\u001b[1;33m\u001b[0m\u001b[1;33m\u001b[0m\u001b[0m\n\u001b[0;32m      6\u001b[0m \u001b[1;33m\u001b[0m\u001b[0m\n\u001b[1;32m----> 7\u001b[1;33m \u001b[0mcircle\u001b[0m\u001b[1;33m(\u001b[0m\u001b[1;33m)\u001b[0m\u001b[1;33m\u001b[0m\u001b[1;33m\u001b[0m\u001b[0m\n\u001b[0m",
      "\u001b[1;31mTypeError\u001b[0m: circle() missing 1 required positional argument: 'circumference'"
     ]
    }
   ],
   "source": [
    "def circle(circumference):\n",
    "    pi = 3.1416\n",
    "    r = circumference/(2*pi)\n",
    "    area = pi * (r**2)\n",
    "    return area\n",
    "    \n",
    "circle()   \n"
   ]
  },
  {
   "cell_type": "markdown",
   "metadata": {},
   "source": [
    "2\n",
    "\n",
    "2 points\n",
    "\n",
    "Write a function that takes a 5-character string as a parameter and returns the string in reverse order.\n",
    "\n",
    "e.g. reverseString(\"Hello\") -> \"olleH\""
   ]
  },
  {
   "cell_type": "code",
   "execution_count": 46,
   "metadata": {},
   "outputs": [
    {
     "data": {
      "text/plain": [
       "'olleH'"
      ]
     },
     "execution_count": 46,
     "metadata": {},
     "output_type": "execute_result"
    }
   ],
   "source": [
    "def reverseString(word):\n",
    "    wordlen = len(word)\n",
    "    reverse = word[wordlen::-1]\n",
    "    return reverse\n",
    "\n",
    "reverseString(\"Hello\")"
   ]
  },
  {
   "cell_type": "markdown",
   "metadata": {},
   "source": [
    "3\n",
    "\n",
    "2 points\n",
    "\n",
    "Write a function that takes a positive integer as input and returns the sum of all positive integers smaller than and including the number itself."
   ]
  },
  {
   "cell_type": "code",
   "execution_count": 42,
   "metadata": {},
   "outputs": [
    {
     "data": {
      "text/plain": [
       "15"
      ]
     },
     "execution_count": 42,
     "metadata": {},
     "output_type": "execute_result"
    }
   ],
   "source": [
    "def backAddition(num):\n",
    "    sum = 0\n",
    "    while num > 0:\n",
    "        sum = sum+num\n",
    "        num = num-1\n",
    "    return sum\n",
    "backAddition(5)\n",
    "        "
   ]
  },
  {
   "cell_type": "markdown",
   "metadata": {},
   "source": [
    "4\n",
    "\n",
    "5 points (all or nothing)\n",
    "\n",
    "The sum of the squares of the first ten natural numbers is, 12 + 22 + ... + 102 = 385\n",
    "\n",
    "The square of the sum of the first ten natural numbers is, (1 + 2 + ... + 10)2 = 552 = 3025\n",
    "\n",
    "Hence the difference between the sum of the squares of the first ten natural numbers and the square of the sum is 3025 − 385 = 2640.\n",
    "\n",
    "Find the difference between the sum of the squares of the first one hundred natural numbers and the square of the sum.\n",
    "\n",
    "Show code that generates the answer."
   ]
  },
  {
   "cell_type": "code",
   "execution_count": 61,
   "metadata": {},
   "outputs": [
    {
     "data": {
      "text/plain": [
       "25164150"
      ]
     },
     "execution_count": 61,
     "metadata": {},
     "output_type": "execute_result"
    }
   ],
   "source": [
    "def difference(natural):\n",
    "    num = 0\n",
    "    sumsquare = 0\n",
    "    squaresum = 0\n",
    "    while num <= 100:\n",
    "        sumsquare = sumsquare + (num)**2\n",
    "        squaresum = squaresum + num\n",
    "        num = num + 1\n",
    "    squaresum = squaresum**2\n",
    "    diff = squaresum - sumsquare\n",
    "    return diff\n",
    "\n",
    "difference(100)"
   ]
  },
  {
   "cell_type": "markdown",
   "metadata": {},
   "source": [
    "5\n",
    "\n",
    "5 points\n",
    "\n",
    "Write a function that allows a self-service Point of Sale system to give you the exact change when you pay in cash.\n",
    "\n",
    "The function should accept the number of cents entered by the caller of the function. It then should display the denominations of the coins that should be given to the buyer. The change should use as few coins as possible. Assume that the Point of Sale system is loaded with 1 cent, 5 cents, 10 cents, 25 cents and 1 peso coins.\n",
    "\n",
    "Write main program code that accepts the number of cents manually through user input and calls the function written above.\n",
    "\n",
    "Input: The program accepts one positive integer, cents, corresponding to the total change to be given by the Point of Sale system.\n",
    "\n",
    "Output: The number of 1 peso, 25 cents, 10 cents, 5 cents and 1 cent coins respectively. There should be one output per line.\n",
    "\n",
    "Sample Input 1:\n",
    "105\n",
    "\n",
    "Sample Output 1\n",
    "1\n",
    "0\n",
    "0\n",
    "1\n",
    "0\n",
    "\n",
    "Sample Input 2:\n",
    "69\n",
    "\n",
    "Sample Output 2:\n",
    "0\n",
    "2\n",
    "1\n",
    "1\n",
    "4"
   ]
  },
  {
   "cell_type": "code",
   "execution_count": 74,
   "metadata": {},
   "outputs": [
    {
     "name": "stdout",
     "output_type": "stream",
     "text": [
      "69\n",
      "0\n",
      "2\n",
      "1\n",
      "1\n",
      "4\n"
     ]
    }
   ],
   "source": [
    "cash = int(input())\n",
    "peso = 0\n",
    "cent1 = 0\n",
    "cent2 = 0\n",
    "cent3 = 0\n",
    "cent4 = 0\n",
    "while cash > 0:\n",
    "    if (cash - 100) > 0:\n",
    "        peso += 1\n",
    "        cash = cash - 100\n",
    "    elif (cash - 25) > 0:\n",
    "        cent1 += 1\n",
    "        cash = cash - 25\n",
    "    elif (cash - 10) > 0:\n",
    "        cent2 += 1\n",
    "        cash -= 10\n",
    "    elif (cash - 5) > 0:\n",
    "        cent3 += 1\n",
    "        cash -= 5\n",
    "    else:\n",
    "        cent4 += 1\n",
    "        cash -= 1\n",
    "print(str(peso))\n",
    "print(str(cent1))\n",
    "print(str(cent2))\n",
    "print(str(cent3))\n",
    "print(str(cent4))\n"
   ]
  },
  {
   "cell_type": "code",
   "execution_count": null,
   "metadata": {},
   "outputs": [],
   "source": []
  }
 ],
 "metadata": {
  "kernelspec": {
   "display_name": "Python 3",
   "language": "python",
   "name": "python3"
  },
  "language_info": {
   "codemirror_mode": {
    "name": "ipython",
    "version": 3
   },
   "file_extension": ".py",
   "mimetype": "text/x-python",
   "name": "python",
   "nbconvert_exporter": "python",
   "pygments_lexer": "ipython3",
   "version": "3.8.5"
  }
 },
 "nbformat": 4,
 "nbformat_minor": 4
}
